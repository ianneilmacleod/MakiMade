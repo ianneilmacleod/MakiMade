{
 "cells": [
  {
   "cell_type": "markdown",
   "id": "fe2a28fd",
   "metadata": {},
   "source": [
    "# Open a grid and save as an HGD\n",
    "\n",
    "An HGD is a Geosoft \"hyper-grid\", which supports dealiased access to grid/image data at any resolution. \n",
    "This is helpful when the original data is at a very high resolution (small cell size) and you need to\n",
    "work with the data at a lower resolution. Simply sampling the data at smaller size will cause aliasing, which\n",
    "usually appears as a noisy image at the cell resolution. HGD effectivly smooth the data to remove \n",
    "wavenumber information smaller than can be sampled at the desired coarser resolution.\n",
    "\n",
    "For example, DEM (Digital Elevation Model) data may have been obtained at a 10 metre resolution, but you\n",
    "want to work with it at a 250 metre resolution. If you just regrid or resample this at 250m there will\n",
    "be aliasing noise.  Instead, open the 10 metre grid, save it as an HGD, then open the HGD at a 250 metre\n",
    "cell size. This can be saved to a new grid and the HGD discarded.\n",
    "\n",
    "## Context\n",
    "\n",
    "This grid format was developed to support grid and image data on Geosoft's DAP servers. This allows for automatic\n",
    "dealiasing when data is windowed and downloaded from DAP servers.  If the data is stored as an HGD on the DAP server,\n",
    "the data will be dealiased when downloaded.\n",
    "\n",
    "You might find data of interest on Geosoft's (Seequent's) server: https://public.dap.seequent.com/GDP/Search"
   ]
  },
  {
   "cell_type": "code",
   "execution_count": 3,
   "id": "0a5ead58",
   "metadata": {},
   "outputs": [],
   "source": [
    "import geosoft.gxpy.gx as gx\n",
    "import geosoft.gxpy.grid as gxgrid\n",
    "from IPython.display import Image\n",
    "import numpy as np\n",
    "import pprint\n",
    "gxc = gx.GXpy()"
   ]
  },
  {
   "cell_type": "code",
   "execution_count": 4,
   "id": "d4191583",
   "metadata": {},
   "outputs": [],
   "source": [
    "inName = '..\\SampleData\\BigIslandDEM'\n",
    "g=gxgrid.Grid.open(inName)"
   ]
  },
  {
   "cell_type": "code",
   "execution_count": 5,
   "id": "f4bf5fd1",
   "metadata": {
    "scrolled": true
   },
   "outputs": [
    {
     "data": {
      "image/png": "[encoded data removed]",
      "text/plain": [
       "<IPython.core.display.Image object>"
      ]
     },
     "execution_count": 5,
     "metadata": {},
     "output_type": "execute_result"
    }
   ],
   "source": [
    "# this imaging appears noisy at this coarse sampling\n",
    "Image(g.image_file(shade=True, pix_width=150))"
   ]
  },
  {
   "cell_type": "code",
   "execution_count": 6,
   "id": "bd993526",
   "metadata": {},
   "outputs": [
    {
     "name": "stdout",
     "output_type": "stream",
     "text": [
      "..\\SampleData\\BigIslandDEM.hgd(HGD)\n"
     ]
    }
   ],
   "source": [
    "# create an decorated name for the HGD file.  The (HGD) added to the end of the file name\n",
    "# will result in an HGD file when this file is created.\n",
    "gHgdName = gxgrid.Grid.decorate_name(inName+'.hgd', 'HGD')\n",
    "print(gHgdName)"
   ]
  },
  {
   "cell_type": "code",
   "execution_count": 7,
   "id": "e9db32dd",
   "metadata": {},
   "outputs": [
    {
     "data": {
      "image/png": "[encoded data removed]",
      "text/plain": [
       "<IPython.core.display.Image object>"
      ]
     },
     "execution_count": 7,
     "metadata": {},
     "output_type": "execute_result"
    }
   ],
   "source": [
    "# create the HGD as a copy of the original grid\n",
    "gHGD = gxgrid.Grid.copy(g, gHgdName)\n",
    "\n",
    "# imaging the HGD at a coarse resolution will be dealiased.\n",
    "Image(gHGD.image_file(shade=True, pix_width=150))"
   ]
  },
  {
   "cell_type": "code",
   "execution_count": 8,
   "id": "fbedd0fa",
   "metadata": {},
   "outputs": [],
   "source": [
    "# cleaning up workspace...\n",
    "# The HGD creates a number of support files.  Here we delete the files associated with the HGD to \n",
    "# clean-up this example workspace.\n",
    "gHGD.delete_files()\n",
    "\n",
    "# the shaded imaging also created a shaded relief grid. The best way to remove grids is to open\n",
    "# the grid and use the delete_files() method to have all associated files removed when the instance\n",
    "# is destroyed.\n",
    "gxgrid.Grid.open(inName+'_s.grd').delete_files()"
   ]
  },
  {
   "cell_type": "code",
   "execution_count": 9,
   "id": "e43532cb",
   "metadata": {},
   "outputs": [],
   "source": [
    "# exiting the script will remove all resources\n",
    "exit()"
   ]
  },
  {
   "cell_type": "code",
   "execution_count": null,
   "id": "eefe51b2",
   "metadata": {},
   "outputs": [],
   "source": []
  }
 ],
 "metadata": {
  "kernelspec": {
   "display_name": "Python 3 (ipykernel)",
   "language": "python",
   "name": "python3"
  },
  "language_info": {
   "codemirror_mode": {
    "name": "ipython",
    "version": 3
   },
   "file_extension": ".py",
   "mimetype": "text/x-python",
   "name": "python",
   "nbconvert_exporter": "python",
   "pygments_lexer": "ipython3",
   "version": "3.8.18"
  }
 },
 "nbformat": 4,
 "nbformat_minor": 5
}

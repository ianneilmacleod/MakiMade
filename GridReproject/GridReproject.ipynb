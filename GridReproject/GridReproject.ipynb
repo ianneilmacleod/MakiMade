{
 "cells": [
  {
   "cell_type": "markdown",
   "id": "6817fa5c",
   "metadata": {},
   "source": [
    "# Reproject a grid to a new coordinate system."
   ]
  },
  {
   "cell_type": "code",
   "execution_count": 1,
   "id": "0a5ead58",
   "metadata": {},
   "outputs": [],
   "source": [
    "import geosoft.gxpy.gx as gx\n",
    "import geosoft.gxpy.grid as gxgrid\n",
    "import geosoft.gxpy.coordinate_system as gxcs\n",
    "from IPython.display import Image\n",
    "import numpy as np\n",
    "gxc = gx.GXpy()"
   ]
  },
  {
   "cell_type": "code",
   "execution_count": 2,
   "id": "e03f9034",
   "metadata": {},
   "outputs": [],
   "source": [
    "inName = '..\\SampleData\\BigIslandDEM'"
   ]
  },
  {
   "cell_type": "code",
   "execution_count": 3,
   "id": "4d28cf1d",
   "metadata": {},
   "outputs": [
    {
     "name": "stdout",
     "output_type": "stream",
     "text": [
      "WGS 84 / *Lambert Conic Conformal (1SP)\n"
     ]
    }
   ],
   "source": [
    "# First open the grid to see it's coordinate system\n",
    "with gxgrid.Grid.open(inName) as g:\n",
    "    print(g.properties()['coordinate_system'])"
   ]
  },
  {
   "cell_type": "code",
   "execution_count": 4,
   "id": "f4bf5fd1",
   "metadata": {
    "scrolled": true
   },
   "outputs": [
    {
     "name": "stdout",
     "output_type": "stream",
     "text": [
      "WGS 84 / UTM zone 5N\n"
     ]
    },
    {
     "data": {
      "image/png": "[encoded data removed]",
      "text/plain": [
       "<IPython.core.display.Image object>"
      ]
     },
     "execution_count": 4,
     "metadata": {},
     "output_type": "execute_result"
    }
   ],
   "source": [
    "# open the grid in the desired CS, display the CS, and a thumbnail of the grid\n",
    "# note - the Image method does not work inside a \"with\" block, otherwise a \"with...\" construct would be better.\n",
    "g = gxgrid.Grid.open(inName,coordinate_system='WGS 84 / UTM zone 5N')\n",
    "print(g.properties()['coordinate_system'])\n",
    "Image(g.image_file(shade=True, pix_width=150))"
   ]
  },
  {
   "cell_type": "code",
   "execution_count": 5,
   "id": "e9db32dd",
   "metadata": {},
   "outputs": [
    {
     "name": "stdout",
     "output_type": "stream",
     "text": [
      "WGS 84 / UTM zone 5N\n"
     ]
    }
   ],
   "source": [
    "# save a copy of the projected grid\n",
    "newGrid = inName+'_UTMz5'\n",
    "with gxgrid.Grid.copy(g, file_name=newGrid, overwrite=True) as gZ5:\n",
    "    print(gZ5.properties()['coordinate_system'])"
   ]
  },
  {
   "cell_type": "code",
   "execution_count": 6,
   "id": "4be0ce9b",
   "metadata": {},
   "outputs": [],
   "source": [
    "# cleanup the files and exit - this is just to keep the folder clean\n",
    "gxgrid.Grid.open(newGrid).delete_files()\n",
    "gxgrid.Grid.open(inName+'_s').delete_files() # the shaded relief created for the image"
   ]
  },
  {
   "cell_type": "code",
   "execution_count": 7,
   "id": "b418e207",
   "metadata": {},
   "outputs": [],
   "source": [
    "exit()"
   ]
  },
  {
   "cell_type": "code",
   "execution_count": null,
   "id": "6ff3c430",
   "metadata": {},
   "outputs": [],
   "source": []
  }
 ],
 "metadata": {
  "kernelspec": {
   "display_name": "Python 3 (ipykernel)",
   "language": "python",
   "name": "python3"
  },
  "language_info": {
   "codemirror_mode": {
    "name": "ipython",
    "version": 3
   },
   "file_extension": ".py",
   "mimetype": "text/x-python",
   "name": "python",
   "nbconvert_exporter": "python",
   "pygments_lexer": "ipython3",
   "version": "3.8.18"
  }
 },
 "nbformat": 4,
 "nbformat_minor": 5
}
